{
 "cells": [
  {
   "cell_type": "markdown",
   "id": "c84ccb87-7e20-4996-ac9d-127cb8897e8a",
   "metadata": {},
   "source": [
    "# I. Example: COVID Detection\n",
    "Let's take COVID detection in a patient as an example of a classification challenge. Per chapter 6, we could apply a Decision Tree. The inputs/features might be:\n",
    "\n",
    "### A. Binary \n",
    "- 1. asdf\n",
    "- 2. asdf\n",
    "- 3. asdf\n",
    "- 4. asdf\n",
    "- 5. asdf\n",
    "\n",
    "  \n",
    "### B. Linear \n",
    "- 1. asdf\n",
    "- 2. asdf\n",
    "- 3. asdf\n",
    "- 4. asdf\n",
    "- 5. asdf\n",
    " \n",
    "     \n",
    "### C. Categorical \n",
    "- 1. asdf\n",
    "- 2. asdf\n",
    "- 3. asdf\n",
    "- 4. asdf\n",
    "- 5. asdf\n",
    "\n",
    "\n",
    "# II. What is a Random Forest?\n",
    "\n",
    "\n",
    "# III. What's NOT a Randon Forest?\n",
    "\n"
   ]
  }
 ],
 "metadata": {
  "kernelspec": {
   "display_name": "Python 3 (ipykernel)",
   "language": "python",
   "name": "python3"
  },
  "language_info": {
   "codemirror_mode": {
    "name": "ipython",
    "version": 3
   },
   "file_extension": ".py",
   "mimetype": "text/x-python",
   "name": "python",
   "nbconvert_exporter": "python",
   "pygments_lexer": "ipython3",
   "version": "3.11.4"
  }
 },
 "nbformat": 4,
 "nbformat_minor": 5
}
