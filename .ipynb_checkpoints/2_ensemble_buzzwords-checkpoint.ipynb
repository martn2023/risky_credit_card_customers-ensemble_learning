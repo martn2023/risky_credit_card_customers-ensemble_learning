{
 "cells": [
  {
   "cell_type": "markdown",
   "id": "713398eb-76af-45ec-b5d9-5ad236600524",
   "metadata": {},
   "source": [
    "# I. Bagging\n",
    "This is a nickanme for ##Bootstrap - Aggregating##, a fancy word for giving different random of the training data to different models (next notebook, we see this in random forest\n",
    "\n",
    "# II. Pasting\n",
    "Similar to above, but key difference is that duplicate use of data points is prohibited. Counter to my initial intuition, this can produce ##inferior## results. By repeatedly using the same data points in ##bagging###, it's easier to isolate variables and quantify difference makers.\n",
    "\n",
    "# III. Boosting\n",
    "Create a sequential chain of models where model A tries something, B learns from A's mistakes, and C learns from B's mistakes.\n",
    "\n",
    "### Ways to Counter Overfitting\n",
    "- \"Learning Rates\" are how much weigh we give to new models - keep this low\n",
    "- Shallow tree depth - don't let decision trees go beyond 3 layers"
   ]
  }
 ],
 "metadata": {
  "kernelspec": {
   "display_name": "Python 3 (ipykernel)",
   "language": "python",
   "name": "python3"
  },
  "language_info": {
   "codemirror_mode": {
    "name": "ipython",
    "version": 3
   },
   "file_extension": ".py",
   "mimetype": "text/x-python",
   "name": "python",
   "nbconvert_exporter": "python",
   "pygments_lexer": "ipython3",
   "version": "3.11.4"
  }
 },
 "nbformat": 4,
 "nbformat_minor": 5
}
