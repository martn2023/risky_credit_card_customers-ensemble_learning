{
 "cells": [
  {
   "cell_type": "markdown",
   "id": "d8f25dbf-0741-4773-be00-9d422d880110",
   "metadata": {},
   "source": [
    "# I. Sample End-to-End Analysis\n",
    "### A. Challenge\n",
    "I want to look at loan (application process) info to predict who will default. Before I bias myself looking at the data that's available, I'm going to list out things I'd want to see where possible:\n",
    "#### 1. Info about the Borrower\n",
    "- FICO score at time of application\n",
    "- Employment status\n",
    "- Household AGI (adjusted gross income) on last year's tax return\n",
    "- Net worth\n",
    "- Number of bankruptcies in last 20 years (though I don't know if records go beyond 10 years)\n",
    "- Current or past home ownership\n",
    "- Marital status\n",
    "- Highest attained education level\n",
    "- Age\n",
    "- Race\n",
    "\n",
    "#### 2. Info about the Loan, Maybe with Borrower Info Baked In\n",
    "- Loan size\n",
    "- Interest rate\n",
    "- Debt-to-income ratio\n",
    "- Required payment-to-income ratio\n",
    "\n",
    "#### 3. Concerns About Data Sets:\n",
    "- Too simplistic, not enough \"features\"\n",
    "- Low sample size (under 10,000)\n",
    "- Imbalanced results, which plays into the above\n",
    "- Lots of features, but too many null values which would render many useless\n",
    "\n",
    "### B. Data Set Used\n",
    "\n",
    "\n",
    "\n",
    "# II. Generalized Order of Operations\n",
    "This will be my 2nd rodeo since I got exposed to this process in the classic ##Housing Price Prediction## challenge in Chapter 2.\n",
    "\n",
    "\n"
   ]
  }
 ],
 "metadata": {
  "kernelspec": {
   "display_name": "Python 3 (ipykernel)",
   "language": "python",
   "name": "python3"
  },
  "language_info": {
   "codemirror_mode": {
    "name": "ipython",
    "version": 3
   },
   "file_extension": ".py",
   "mimetype": "text/x-python",
   "name": "python",
   "nbconvert_exporter": "python",
   "pygments_lexer": "ipython3",
   "version": "3.11.4"
  }
 },
 "nbformat": 4,
 "nbformat_minor": 5
}
