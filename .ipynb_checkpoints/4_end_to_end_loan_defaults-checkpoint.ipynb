{
 "cells": [
  {
   "cell_type": "markdown",
   "id": "d8f25dbf-0741-4773-be00-9d422d880110",
   "metadata": {},
   "source": [
    "# I. Sample End-to-End Analysis\n",
    "### A. Challenge\n",
    "I want to look at loan (application process) info to predict who will default. Before I bias myself looking at the data that's available, I'm going to list out things I'd want to see where possible:\n",
    "#### 1. Info about the Borrower\n",
    "- FICO score at time of application\n",
    "- Employment status\n",
    "- Household AGI (adjusted gross income) on last year's tax return\n",
    "- Net worth\n",
    "- Number of bankruptcies in last 20 years (though I don't know if records go beyond 10 years)\n",
    "- Current or past home ownership\n",
    "- Marital status\n",
    "- Highest attained education level\n",
    "- Age\n",
    "- Race\n",
    "\n",
    "#### 2. Info about the Loan, Maybe with Borrower Info Baked In\n",
    "- Loan size\n",
    "- Interest rate\n",
    "- Debt-to-income ratio\n",
    "- Required payment-to-income ratio\n",
    "\n",
    "\n",
    "### B. Finding the Data\n",
    "### 1. Concerns About Data Sets:\n",
    "- Too simplistic, not enough \"features\"\n",
    "- Low sample size (under 10,000)\n",
    "- Imbalanced results, which plays into the above\n",
    "- Lots of features, but too many null values which would render many useless\n",
    "\n",
    "### 2. Where To Look:\n",
    "#### A. Kaggle - The LeetCode of ML/Data Science:\n",
    "I heard about this site because it has competitions, a leaderboard, and curated data sets. What I didn't know was that there's an unmoderated GitHub-like free-for-all where where anyone can post a data set without a README explaining what the data is, or what outcomes were being measured, and there's nothing stopping users from contributing poorly worded or even erroneous interpretations of the data set! That was a real letdown.\n",
    "\n",
    "#### B. Hugging Face:\n",
    "This appears to be GitHub-like web site for data sets, where I can search by row count, topic, data format etc. My shoot-from-the-hip criticisms are:\n",
    "- Unlike Kaggle, some of these appear aimless in nature. For example I can find data on social media posts (in English), translated to their Arabic equivalent. No upvote counts or any worthwhile \"target\" dimension offered.\n",
    "- Lack of good documentation\n",
    "- Crtyptic titles so site visitors are missing half the story until they click a link\n",
    "\n",
    "#### C. Individual Schools/Research Facilities (What We Use This time):\n",
    "In the interest of expediency, I grabbed the first one that fit from ##UC Irvine##:\n",
    "https://archive.ics.uci.edu/dataset/350/default+of+credit+card+clients\n",
    "\n",
    "# II. Generalized Order of Operations\n",
    "This will be my 2nd rodeo since I got exposed to this process in the classic ##Housing Price Prediction## challenge in Chapter 2.\n",
    "\n",
    "\n"
   ]
  },
  {
   "cell_type": "code",
   "execution_count": null,
   "id": "71b2c192-44b0-4593-a177-4462d9032866",
   "metadata": {},
   "outputs": [],
   "source": []
  }
 ],
 "metadata": {
  "kernelspec": {
   "display_name": "Python 3 (ipykernel)",
   "language": "python",
   "name": "python3"
  },
  "language_info": {
   "codemirror_mode": {
    "name": "ipython",
    "version": 3
   },
   "file_extension": ".py",
   "mimetype": "text/x-python",
   "name": "python",
   "nbconvert_exporter": "python",
   "pygments_lexer": "ipython3",
   "version": "3.11.4"
  }
 },
 "nbformat": 4,
 "nbformat_minor": 5
}
