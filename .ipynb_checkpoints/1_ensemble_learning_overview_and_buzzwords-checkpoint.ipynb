{
 "cells": [
  {
   "cell_type": "markdown",
   "id": "713398eb-76af-45ec-b5d9-5ad236600524",
   "metadata": {},
   "source": [
    "# I. Overview\n",
    "\n",
    "Pretend that we are are trying to model out investments to understand which stocks to purchase, at what price, and when. In deciding that, we may consider the opionions of different investor advisors. Each investment advisor may:\n",
    "- have educational backgrounds\n",
    "- have a different approach: some look at prices, others look at macro market trends, and some try to calculate company fundamentals\n",
    "- may be stronger suited in different situations: one advisor might be better at consumer goods, another better at the Asian region, another better at new IPOs, and another at large-cap companies with at least 10K employees.\n",
    "\n",
    "\n",
    "\n",
    "### A. Baseline Models\n",
    "The same logic follows with ML and statistic models. Each of these has their own advantages and target use cases. Below are the singleton standalone models we've seen in previous chapters:\n",
    "\n",
    "##### 1. Linear Regression (chapter 2)\n",
    "##### 2. Logistical Regression (chapter 4)\n",
    "##### 3. Decision Tree (chapter 6)\n",
    "\n",
    "### B. Ensemble Learning\n",
    "\n",
    "##### 1. Bagging\n",
    "Each instrument is played independent of each other and in parallel, then we consider the majority \n",
    "\n",
    "##### II. Boosting\n",
    "Create a sequential chain of models where model A tries something, B learns from A's mistakes, and C learns from B's mistakes.\n",
    "\n",
    "##### III. Stacking\n",
    "adsf"
   ]
  },
  {
   "cell_type": "code",
   "execution_count": null,
   "id": "69dcde08-61b1-4c95-ae1e-582d90d361bd",
   "metadata": {},
   "outputs": [],
   "source": []
  }
 ],
 "metadata": {
  "kernelspec": {
   "display_name": "Python 3 (ipykernel)",
   "language": "python",
   "name": "python3"
  },
  "language_info": {
   "codemirror_mode": {
    "name": "ipython",
    "version": 3
   },
   "file_extension": ".py",
   "mimetype": "text/x-python",
   "name": "python",
   "nbconvert_exporter": "python",
   "pygments_lexer": "ipython3",
   "version": "3.11.4"
  }
 },
 "nbformat": 4,
 "nbformat_minor": 5
}
