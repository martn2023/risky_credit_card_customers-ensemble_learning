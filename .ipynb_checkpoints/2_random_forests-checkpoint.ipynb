{
 "cells": [
  {
   "cell_type": "markdown",
   "id": "c84ccb87-7e20-4996-ac9d-127cb8897e8a",
   "metadata": {},
   "source": [
    "# I. Example: COVID Detection\n",
    "Let's take COVID detection in a patient as an example of a classification challenge. Per chapter 6, we could apply a Decision Tree. The inputs/features might be:\n",
    "\n",
    "### A. Binary \n",
    "- 1. has fever\n",
    "- 2. coughing\n",
    "- 3. shortness of breath\n",
    "- 4. loss of smell\n",
    "- 5. loss of taste\n",
    "- 6. headache\n",
    "- 7. sore throat\n",
    "- 8. diarrhea\n",
    "- 9. known exposure to live COVID cases within last 2 weeks\n",
    "- 10. vaccinated\n",
    "- 11. muscle soreness\n",
    "- 12. has history of asthma \n",
    "- 13. has history of diabetes\n",
    "- 14. has history of HIV\n",
    "  \n",
    "### B. Linear \n",
    "- 1. body temperature\n",
    "- 2. age\n",
    "- 3. oxygen saturation % (via pulse oximeter)\n",
    "- 4. resting heart rate\n",
    "- 5. BMI\n",
    "     \n",
    "### C. Categorical \n",
    "- 1. biological sex\n",
    "- 2. smoking [heavy, light, historical, never]\n",
    "\n",
    "# II. What is a Random Forest?\n",
    "Random Forest is when we use a tool (Scikit-learn is de facto default) to automatically generate hundreds of decision trees, each one:\n",
    "- With different quantity layers of questions\n",
    "- With a different selection of features/inputs to consider at every node\n",
    "- Testing a different subset of training data\n",
    "\n",
    "Then we look rely on \"wisdom of the crowd\", giving each tree an equal weight in voting.\n",
    "\n",
    "All experiments run at the same time in parallel.\n",
    "\n",
    "# III. What's NOT a Randon Forest?\n",
    "It may seem counter intuitive, but:\n",
    "- we do not manually and intentionally cover ranges with evenly-sized increments. For example, if the body temperature range goes from 95 to 105 (range of 10 degrees) and we have 50 decision trees in the random forest testing for body temperature, it's not as if the first 5 cover body temperature of 95, then next 5 cover 96 degrees etc\n",
    "\n",
    "- Scikit-learn does not care about fairness or diversity in constructing its trees. Consider an example with 12 factors (features). If a decision tree considers 3 features across 4 layers, it's not as if the model will give each of the 12 variables an equal time to shine. There may be duplicative use of a variable."
   ]
  },
  {
   "cell_type": "code",
   "execution_count": null,
   "id": "b3d1bbf3-0437-4b4b-9dc1-bb4bb5b56c09",
   "metadata": {},
   "outputs": [],
   "source": []
  }
 ],
 "metadata": {
  "kernelspec": {
   "display_name": "Python 3 (ipykernel)",
   "language": "python",
   "name": "python3"
  },
  "language_info": {
   "codemirror_mode": {
    "name": "ipython",
    "version": 3
   },
   "file_extension": ".py",
   "mimetype": "text/x-python",
   "name": "python",
   "nbconvert_exporter": "python",
   "pygments_lexer": "ipython3",
   "version": "3.11.4"
  }
 },
 "nbformat": 4,
 "nbformat_minor": 5
}
